{
 "cells": [
  {
   "cell_type": "markdown",
   "metadata": {},
   "source": [
    "# AWACでマリオを動かしてみる"
   ]
  },
  {
   "cell_type": "markdown",
   "metadata": {},
   "source": [
    "## 下準備"
   ]
  },
  {
   "cell_type": "code",
   "execution_count": 1,
   "metadata": {},
   "outputs": [],
   "source": [
    "import sys\n",
    "import os\n",
    "import random\n",
    "\n",
    "import gym\n",
    "import ppaquette_gym_super_mario\n",
    "import numpy as np\n",
    "import cv2\n",
    "import matplotlib.pyplot as plt\n",
    "\n",
    "import torch\n",
    "from torch import nn, optim\n",
    "\n",
    "from src.Learner.AWAC import AWAC\n",
    "from src.utils.memory import ReplayMemory\n",
    "from src.utils.train_utils import prepare_training_inputs"
   ]
  },
  {
   "cell_type": "code",
   "execution_count": 2,
   "metadata": {},
   "outputs": [
    {
     "name": "stdout",
     "output_type": "stream",
     "text": [
      "cuda\n"
     ]
    }
   ],
   "source": [
    "device = torch.device('cuda' if torch.cuda.is_available() else 'cpu')\n",
    "print(device)"
   ]
  },
  {
   "cell_type": "code",
   "execution_count": 3,
   "metadata": {},
   "outputs": [],
   "source": [
    "class MaxAndSkipEnv(gym.Wrapper):\n",
    "    \n",
    "    def __init__(self, env, skip=4):\n",
    "        gym.Wrapper.__init__(self, env)\n",
    "        self._obs_buffer = np.zeros((2,)+env.observation_space.shape, dtype=np.uint8)\n",
    "        self._skip       = skip\n",
    "\n",
    "    def step(self, action):\n",
    "        \n",
    "        total_reward = 0.0\n",
    "        done = None\n",
    "        for i in range(self._skip):\n",
    "            obs, reward, done, info = self.env.step(action)\n",
    "            if i == self._skip - 2: self._obs_buffer[0] = obs\n",
    "            if i == self._skip - 1: self._obs_buffer[1] = obs\n",
    "            total_reward += reward\n",
    "            if done:\n",
    "                break\n",
    "        max_frame = self._obs_buffer.max(axis=0)\n",
    "\n",
    "        return max_frame, total_reward, done, info\n",
    "\n",
    "    def reset(self, **kwargs):\n",
    "        \n",
    "        return self.env.reset(**kwargs)\n",
    "\n",
    "\n",
    "class WarpFrame(gym.ObservationWrapper):\n",
    "    \n",
    "    def __init__(self, env, width=84, height=84, grayscale=True, dict_space_key=None):\n",
    "        \n",
    "        super().__init__(env)\n",
    "        self._width = width\n",
    "        self._height = height\n",
    "        self._grayscale = grayscale\n",
    "        self._key = dict_space_key\n",
    "        if self._grayscale:\n",
    "            num_colors = 1\n",
    "        else:\n",
    "            num_colors = 3\n",
    "\n",
    "        new_space = gym.spaces.Box(\n",
    "            low=0,\n",
    "            high=255,\n",
    "            shape=(self._height, self._width, num_colors),\n",
    "            dtype=np.uint8,\n",
    "        )\n",
    "        if self._key is None:\n",
    "            original_space = self.observation_space\n",
    "            self.observation_space = new_space\n",
    "        else:\n",
    "            original_space = self.observation_space.spaces[self._key]\n",
    "            self.observation_space.spaces[self._key] = new_space\n",
    "        assert original_space.dtype == np.uint8 and len(original_space.shape) == 3\n",
    "\n",
    "    def observation(self, obs):\n",
    "        \n",
    "        if self._key is None:\n",
    "            frame = obs\n",
    "        else:\n",
    "            frame = obs[self._key]\n",
    "\n",
    "        if self._grayscale:\n",
    "            frame = cv2.cvtColor(frame, cv2.COLOR_RGB2GRAY)\n",
    "        frame = cv2.resize(\n",
    "            frame, (self._width, self._height), interpolation=cv2.INTER_AREA\n",
    "        )\n",
    "        if self._grayscale:\n",
    "            frame = np.expand_dims(frame, -1)\n",
    "\n",
    "        if self._key is None:\n",
    "            obs = frame\n",
    "        else:\n",
    "            obs = obs.copy()\n",
    "            obs[self._key] = frame\n",
    "        return obs\n",
    "\n",
    "\n",
    "class ClipRewardEnv(gym.RewardWrapper):\n",
    "    \n",
    "    def __init__(self, env):\n",
    "        \n",
    "        gym.RewardWrapper.__init__(self, env)\n",
    "\n",
    "    def reward(self, reward):\n",
    "        \n",
    "        return np.sign(reward)\n",
    "\n",
    "\n",
    "class LazyFrames(object):\n",
    "    \n",
    "    def __init__(self, frames):\n",
    "        \n",
    "        self._frames = frames\n",
    "        self._out = None\n",
    "\n",
    "    def _force(self):\n",
    "        \n",
    "        if self._out is None:\n",
    "            self._out = np.concatenate(self._frames, axis=-1)\n",
    "            self._frames = None\n",
    "        return self._out\n",
    "\n",
    "    def __array__(self, dtype=None):\n",
    "        \n",
    "        out = self._force()\n",
    "        if dtype is not None:\n",
    "            out = out.astype(dtype)\n",
    "        return out\n",
    "\n",
    "    def __len__(self):\n",
    "        \n",
    "        return len(self._force())\n",
    "\n",
    "    def __getitem__(self, i):\n",
    "        \n",
    "        return self._force()[i]\n",
    "\n",
    "    def count(self):\n",
    "        \n",
    "        frames = self._force()\n",
    "        return frames.shape[frames.ndim - 1]\n",
    "\n",
    "    def frame(self, i):\n",
    "        \n",
    "        return self._force()[..., i]\n",
    "    \n",
    "    \n",
    "class TorchFrame(gym.ObservationWrapper):\n",
    "    \n",
    "    def __init__(self, env):\n",
    "        \n",
    "        super().__init__(env)\n",
    "        height, width, channels = self.observation_space.shape\n",
    "        self.observation_space = gym.spaces.Box(\n",
    "            low=0,\n",
    "            high=255,\n",
    "            shape=(channels, height, width),\n",
    "            dtype=np.uint8,\n",
    "        )\n",
    "\n",
    "    def observation(self, obs):\n",
    "        \n",
    "        return torch.as_tensor(obs.transpose([2, 0, 1]))"
   ]
  },
  {
   "cell_type": "code",
   "execution_count": 4,
   "metadata": {},
   "outputs": [],
   "source": [
    "def make_action(command):\n",
    "    \n",
    "    if command == 0:\n",
    "        return [0, 0, 0, 1, 0, 0]\n",
    "    elif command == 1:\n",
    "        return [0, 0, 0, 1, 1, 0]"
   ]
  },
  {
   "cell_type": "code",
   "execution_count": 5,
   "metadata": {},
   "outputs": [
    {
     "name": "stdout",
     "output_type": "stream",
     "text": [
      "\u001b[33mWARN: gym.spaces.Box autodetected dtype as <class 'numpy.uint8'>. Please provide explicit dtype.\u001b[0m\n"
     ]
    },
    {
     "name": "stderr",
     "output_type": "stream",
     "text": [
      "/home/amsl/.local/lib/python3.8/site-packages/gym/envs/registration.py:14: PkgResourcesDeprecationWarning: Parameters to load are deprecated.  Call .resolve and .require separately.\n",
      "  result = entry_point.load(False)\n"
     ]
    }
   ],
   "source": [
    "def make_env(noop_max=30, skip=4, width=84, height=84, grayscale=True):\n",
    "    \n",
    "    env = gym.make('ppaquette/SuperMarioBros-1-1-v0')\n",
    "    env = MaxAndSkipEnv(env, skip=skip)\n",
    "    env = WarpFrame(env, width=width, height=height, grayscale=grayscale)\n",
    "    env = ClipRewardEnv(env)\n",
    "    env = TorchFrame(env)\n",
    "    return env\n",
    "\n",
    "env = make_env()"
   ]
  },
  {
   "cell_type": "markdown",
   "metadata": {},
   "source": [
    "## ネットワーク定義"
   ]
  },
  {
   "cell_type": "code",
   "execution_count": 6,
   "metadata": {},
   "outputs": [],
   "source": [
    "gamma = 0.9\n",
    "memory_size = 500000\n",
    "memory = ReplayMemory(memory_size)"
   ]
  },
  {
   "cell_type": "code",
   "execution_count": 7,
   "metadata": {},
   "outputs": [],
   "source": [
    "class CNNQNetwork(nn.Module):\n",
    "    \n",
    "    def __init__(self, state_shape, n_action):\n",
    "        \n",
    "        super(CNNQNetwork, self).__init__()\n",
    "        self.state_shape = state_shape\n",
    "        self.n_action = n_action\n",
    "        # Dueling Networkでも, 畳込み部分は共有する\n",
    "        self.conv_layers = nn.Sequential(\n",
    "            nn.Conv2d(state_shape[0], 32, kernel_size=8, stride=4),  # 1x84x84 -> 32x20x20\n",
    "            nn.ReLU(),\n",
    "            nn.Conv2d(32, 64, kernel_size=4, stride=2),  # 32x20x20 -> 64x9x9\n",
    "            nn.ReLU(),\n",
    "            nn.Conv2d(64, 64, kernel_size=3, stride=1),  # 64x9x9 -> 64x7x7\n",
    "            nn.ReLU()\n",
    "        )\n",
    "\n",
    "        # Dueling Networkのための分岐した全結合層\n",
    "        # 状態価値\n",
    "        self.fc_state = nn.Sequential(\n",
    "            nn.Linear(3136, 512),\n",
    "            nn.ReLU(),\n",
    "            nn.Linear(512, 1)\n",
    "        )\n",
    "\n",
    "        # アドバンテージ\n",
    "        self.fc_advantage = nn.Sequential(\n",
    "            nn.Linear(3136, 512),\n",
    "            nn.ReLU(),\n",
    "            nn.Linear(512, n_action)\n",
    "        )\n",
    "    \n",
    "    def forward(self, obs):\n",
    "        \n",
    "        feature = self.conv_layers(obs)\n",
    "        feature = feature.view(feature.size(0), -1)  #　Flatten. 64x7x7　-> 3136\n",
    "\n",
    "        state_values = self.fc_state(feature)\n",
    "        advantage = self.fc_advantage(feature)\n",
    "\n",
    "        # 状態価値 + アドバンテージ で行動価値を計算しますが、安定化のためアドバンテージの（行動間での）平均を引きます\n",
    "        action_values = state_values + advantage - torch.mean(advantage, dim=1, keepdim=True)\n",
    "        return action_values\n",
    "\n",
    "    # epsilon-greedy. 確率epsilonでランダムに行動し, それ以外はニューラルネットワークの予測結果に基づいてgreedyに行動します. \n",
    "    def act(self, obs, epsilon):\n",
    "        \n",
    "        if random.random() < epsilon:\n",
    "            action = random.randrange(self.n_action)\n",
    "        else:\n",
    "            # 行動を選択する時には勾配を追跡する必要がない\n",
    "            with torch.no_grad():\n",
    "                action = torch.argmax(self.forward(obs.unsqueeze(0))).item()\n",
    "        return action"
   ]
  },
  {
   "cell_type": "code",
   "execution_count": 8,
   "metadata": {},
   "outputs": [],
   "source": [
    "qnet = CNNQNetwork(env.observation_space.shape, n_action=2).to(device)\n",
    "qnet_target = CNNQNetwork(env.observation_space.shape, n_action=2).to(device)\n",
    "pi = CNNQNetwork(env.observation_space.shape, n_action=2).to(device)\n",
    "use_adv = True\n",
    "\n",
    "agent = AWAC(critic=qnet, \n",
    "             critic_target=qnet_target,\n",
    "             actor=pi, \n",
    "             gamma=gamma, \n",
    "             lam=1.0, \n",
    "             num_action_samples=10,\n",
    "             use_adv=use_adv).to(device)\n",
    "\n",
    "offline_agent = CNNQNetwork(env.observation_space.shape, n_action=2).to(device)\n",
    "state_dict = torch.load('dqn_agent.pt')\n",
    "offline_agent.load_state_dict(state_dict)\n",
    "offline_budget = 200"
   ]
  },
  {
   "cell_type": "markdown",
   "metadata": {},
   "source": [
    "## オフラインデータ収集"
   ]
  },
  {
   "cell_type": "code",
   "execution_count": 9,
   "metadata": {},
   "outputs": [
    {
     "data": {
      "text/plain": [
       "(array([4.99490316e-03, 2.34454638e-03, 2.08970438e-03, 7.13557594e-04,\n",
       "        0.00000000e+00, 0.00000000e+00, 0.00000000e+00, 0.00000000e+00,\n",
       "        0.00000000e+00, 5.09683996e-05]),\n",
       " array([  21. ,  119.1,  217.2,  315.3,  413.4,  511.5,  609.6,  707.7,\n",
       "         805.8,  903.9, 1002. ]),\n",
       " <a list of 10 Patch objects>)"
      ]
     },
     "execution_count": 9,
     "metadata": {},
     "output_type": "execute_result"
    },
    {
     "data": {
      "image/png": "[encoded data removed]",
      "text/plain": [
       "<Figure size 432x288 with 1 Axes>"
      ]
     },
     "metadata": {
      "needs_background": "light"
     },
     "output_type": "display_data"
    }
   ],
   "source": [
    "cum_rs = []\n",
    "for n_epi in range(offline_budget):\n",
    "    obs = env.reset()\n",
    "    cum_r = 0\n",
    "\n",
    "    while True:\n",
    "        action = offline_agent.act(obs.float().to(device), 0.1)\n",
    "        next_obs, reward, done, info = env.step(make_action(action))\n",
    "\n",
    "        experience = (\n",
    "            obs.float().to(device),\n",
    "            torch.tensor((action,)).float().to(device),\n",
    "            torch.tensor((reward,)).float().to(device),\n",
    "            next_obs.float().to(device),\n",
    "            torch.tensor((done,)).float().to(device)\n",
    "        )\n",
    "        memory.push(experience)\n",
    "\n",
    "        obs = next_obs\n",
    "        cum_r += 1\n",
    "        if done:\n",
    "            cum_rs.append(cum_r)\n",
    "            break\n",
    "            \n",
    "plt.hist(cum_rs, density=True, label='expert')"
   ]
  },
  {
   "cell_type": "markdown",
   "metadata": {},
   "source": [
    "## オフライン学習"
   ]
  },
  {
   "cell_type": "code",
   "execution_count": 10,
   "metadata": {},
   "outputs": [],
   "source": [
    "batch_size = 1024\n",
    "n_updates = 60000"
   ]
  },
  {
   "cell_type": "code",
   "execution_count": 11,
   "metadata": {},
   "outputs": [
    {
     "name": "stdout",
     "output_type": "stream",
     "text": [
      "Fitting: 60000/60000 |===========================================================>"
     ]
    },
    {
     "data": {
      "image/png": "[encoded data removed]",
      "text/plain": [
       "<Figure size 432x216 with 2 Axes>"
      ]
     },
     "metadata": {
      "needs_background": "light"
     },
     "output_type": "display_data"
    }
   ],
   "source": [
    "critic_losses, actor_losses = [], []\n",
    "progbar = \">\"\n",
    "for i in range(n_updates):        \n",
    "    obs, action, reward, next_obs, done = memory.sample(batch_size)\n",
    "    critic_loss = agent.update_critic(obs, action.to(torch.int64), reward, next_obs, done)\n",
    "    actor_loss = agent.update_actor(obs, action.to(torch.int64))\n",
    "    critic_losses.append(critic_loss.detach())\n",
    "    actor_losses.append(actor_loss.detach())\n",
    "    \n",
    "    if i % 1000 == 0:\n",
    "        print(f\"\\rFitting: {i+1000}/{n_updates} |{progbar}\", end=\"\")\n",
    "        progbar = progbar.replace(\">\", \"=\") + \">\"\n",
    "        \n",
    "fig, axes = plt.subplots(1,2, figsize=(6,3))\n",
    "axes[0].plot(actor_losses, label='actor loss')\n",
    "axes[0].legend()\n",
    "axes[1].plot(critic_losses, label='critic loss')\n",
    "axes[1].legend()\n",
    "fig.tight_layout()"
   ]
  },
  {
   "cell_type": "code",
   "execution_count": 12,
   "metadata": {},
   "outputs": [],
   "source": [
    "torch.save(agent.state_dict(), \"offline_agent.pt\")"
   ]
  },
  {
   "cell_type": "code",
   "execution_count": 13,
   "metadata": {},
   "outputs": [
    {
     "data": {
      "text/plain": [
       "<matplotlib.legend.Legend at 0x7fcfa1dac340>"
      ]
     },
     "execution_count": 13,
     "metadata": {},
     "output_type": "execute_result"
    },
    {
     "data": {
      "image/png": "[encoded data removed]",
      "text/plain": [
       "<Figure size 432x288 with 1 Axes>"
      ]
     },
     "metadata": {
      "needs_background": "light"
     },
     "output_type": "display_data"
    }
   ],
   "source": [
    "awac_cum_rs = []\n",
    "for n_epi in range(offline_budget):\n",
    "    obs = env.reset()\n",
    "    cum_r = 0\n",
    "\n",
    "    while True:\n",
    "        action = agent.get_action(obs.float().to(device).unsqueeze(dim=0))\n",
    "        next_obs, reward, done, info = env.step(make_action(action))\n",
    "\n",
    "        obs = next_obs\n",
    "        cum_r += 1\n",
    "        if done:\n",
    "            awac_cum_rs.append(cum_r)\n",
    "            break\n",
    "\n",
    "plt.hist(cum_rs, density=True, label='expert')\n",
    "plt.hist(awac_cum_rs, \n",
    "         alpha=0.5, \n",
    "         density=True, label='offline')\n",
    "plt.legend()"
   ]
  },
  {
   "cell_type": "markdown",
   "metadata": {},
   "source": [
    "## ファインチューニング"
   ]
  },
  {
   "cell_type": "code",
   "execution_count": 14,
   "metadata": {},
   "outputs": [
    {
     "name": "stdout",
     "output_type": "stream",
     "text": [
      "Episode: 1000/1000 |=======================================================================================================================================================================================================================================================================================================================================================================================================================================================================================================================================================================================================================================================================================================================================================================================================================================================================================================================================================================================================================================>"
     ]
    }
   ],
   "source": [
    "online_budget = 1000\n",
    "online_awac_cum_rs = []\n",
    "progbar = \">\"\n",
    "for n_epi in range(online_budget):\n",
    "    obs = env.reset()\n",
    "    cum_r = 0\n",
    "\n",
    "    while True:\n",
    "        action = agent.get_action(obs.float().to(device).unsqueeze(dim=0))\n",
    "        next_obs, reward, done, info = env.step(make_action(action))\n",
    "\n",
    "        experience = (\n",
    "            obs.float().to(device),\n",
    "            torch.tensor((action,)).float().to(device),\n",
    "            torch.tensor((reward,)).float().to(device),\n",
    "            next_obs.float().to(device),\n",
    "            torch.tensor((done,)).float().to(device)\n",
    "        )\n",
    "        memory.push(experience)\n",
    "        \n",
    "        obs = next_obs\n",
    "        cum_r += 1\n",
    "        if done:\n",
    "            online_awac_cum_rs.append(cum_r)\n",
    "            break\n",
    "    \n",
    "    print(f\"\\rEpisode: {n_epi+1}/{online_budget} |{progbar}\", end=\"\")\n",
    "    progbar = progbar.replace(\">\", \"=\") + \">\"\n",
    "    \n",
    "    if len(memory) >= batch_size:\n",
    "        \n",
    "        obs_, action_, reward_, next_obs_, done_ = memory.sample(batch_size)\n",
    "        critic_loss = agent.update_critic(obs_, action_.to(torch.int64), reward_, next_obs_, done_)\n",
    "        actor_loss = agent.update_actor(obs_, action_.to(torch.int64))\n",
    "        critic_losses.append(critic_loss.detach())\n",
    "        actor_losses.append(actor_loss.detach())"
   ]
  },
  {
   "cell_type": "code",
   "execution_count": 15,
   "metadata": {},
   "outputs": [
    {
     "data": {
      "text/plain": [
       "[<matplotlib.lines.Line2D at 0x7fcf75d1cdf0>]"
      ]
     },
     "execution_count": 15,
     "metadata": {},
     "output_type": "execute_result"
    },
    {
     "data": {
      "image/png": "[encoded data removed]",
      "text/plain": [
       "<Figure size 432x288 with 1 Axes>"
      ]
     },
     "metadata": {
      "needs_background": "light"
     },
     "output_type": "display_data"
    }
   ],
   "source": [
    "plt.plot(range(len(awac_cum_rs)), awac_cum_rs)\n",
    "plt.plot(range(len(awac_cum_rs), \n",
    "               len(awac_cum_rs + online_awac_cum_rs)), \n",
    "         online_awac_cum_rs)"
   ]
  },
  {
   "cell_type": "code",
   "execution_count": 16,
   "metadata": {},
   "outputs": [
    {
     "data": {
      "text/plain": [
       "<matplotlib.legend.Legend at 0x7fcf75c82fd0>"
      ]
     },
     "execution_count": 16,
     "metadata": {},
     "output_type": "execute_result"
    },
    {
     "data": {
      "image/png": "[encoded data removed]",
      "text/plain": [
       "<Figure size 432x288 with 1 Axes>"
      ]
     },
     "metadata": {
      "needs_background": "light"
     },
     "output_type": "display_data"
    }
   ],
   "source": [
    "plt.hist(cum_rs, density=True, label='expert')\n",
    "plt.hist(awac_cum_rs, alpha=0.5, density=True, label='offline')\n",
    "plt.hist(online_awac_cum_rs, alpha=0.5, density=True, label='online-finetuning')\n",
    "plt.legend()"
   ]
  },
  {
   "cell_type": "code",
   "execution_count": 20,
   "metadata": {},
   "outputs": [],
   "source": [
    "def valid():\n",
    "    \n",
    "    for n_epi in range(10):\n",
    "        obs = env.reset()\n",
    "        cum_r = 0\n",
    "        done = False\n",
    "        \n",
    "        while not done:\n",
    "            action = agent.get_action(obs.float().to(device).unsqueeze(dim=0))\n",
    "            next_obs, reward, done, info = env.step(make_action(action))\n",
    "            obs = next_obs\n",
    "            \n",
    "valid()"
   ]
  }
 ],
 "metadata": {
  "kernelspec": {
   "display_name": "Python 3",
   "language": "python",
   "name": "python3"
  },
  "language_info": {
   "codemirror_mode": {
    "name": "ipython",
    "version": 3
   },
   "file_extension": ".py",
   "mimetype": "text/x-python",
   "name": "python",
   "nbconvert_exporter": "python",
   "pygments_lexer": "ipython3",
   "version": "3.8.5"
  }
 },
 "nbformat": 4,
 "nbformat_minor": 4
}
